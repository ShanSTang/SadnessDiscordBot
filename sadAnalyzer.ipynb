{
  "nbformat": 4,
  "nbformat_minor": 0,
  "metadata": {
    "colab": {
      "name": "sadAnalyzer.ipynb",
      "provenance": [],
      "mount_file_id": "12XHv09HBEUSVmI2pV4kaJMxngefx0Wx_",
      "authorship_tag": "ABX9TyNU5We9j5M44lKDACyHTOwf",
      "include_colab_link": true
    },
    "kernelspec": {
      "name": "python3",
      "display_name": "Python 3"
    },
    "language_info": {
      "name": "python"
    },
    "gpuClass": "standard"
  },
  "cells": [
    {
      "cell_type": "markdown",
      "metadata": {
        "id": "view-in-github",
        "colab_type": "text"
      },
      "source": [
        "<a href=\"https://colab.research.google.com/github/ThinkingRed/SadnessDiscordBot/blob/main/sadAnalyzer.ipynb\" target=\"_parent\"><img src=\"https://colab.research.google.com/assets/colab-badge.svg\" alt=\"Open In Colab\"/></a>"
      ]
    },
    {
      "cell_type": "code",
      "source": [
        "!pip install transformers"
      ],
      "metadata": {
        "id": "ovdb03OAJ7ZZ"
      },
      "execution_count": null,
      "outputs": []
    },
    {
      "cell_type": "code",
      "execution_count": null,
      "metadata": {
        "id": "dlUCWu7JJDFN"
      },
      "outputs": [],
      "source": [
        "import numpy as np\n",
        "import torch\n",
        "import pandas as pd\n",
        "import transformers\n",
        "\n",
        "from transformers import BertForSequenceClassification\n",
        "from transformers import BertTokenizer\n",
        "from transformers import TextClassificationPipeline"
      ]
    },
    {
      "cell_type": "code",
      "source": [
        "tokenizer = transformers.BertTokenizer.from_pretrained('bert-base-cased')\n",
        "\n",
        "model = BertForSequenceClassification.from_pretrained('bert-base-uncased',\n",
        "                                     num_labels = 2)\n",
        "newModel = BertForSequenceClassification.from_pretrained('bert-base-uncased',\n",
        "                                     num_labels = 2)"
      ],
      "metadata": {
        "id": "i4tTljVcLefH"
      },
      "execution_count": null,
      "outputs": []
    },
    {
      "cell_type": "code",
      "source": [
        "model.load_state_dict(torch.load('/content/drive/MyDrive/modelSaves/tester_r1_epoch5.pth', map_location=torch.device('cpu')))\n",
        "newModel.load_state_dict(torch.load('/content/drive/MyDrive/modelSaves/tester_r2_epoch4.pth', map_location=torch.device('cpu') ))\n",
        "\n",
        "newModel.eval()\n",
        "model.eval()"
      ],
      "metadata": {
        "id": "dkkAjD_cLh7f"
      },
      "execution_count": null,
      "outputs": []
    },
    {
      "cell_type": "code",
      "source": [
        "pipe = TextClassificationPipeline(model=model, tokenizer=tokenizer, return_all_scores=True)\n",
        "pipe2 = TextClassificationPipeline(model=newModel, tokenizer=tokenizer, return_all_scores=True)"
      ],
      "metadata": {
        "id": "3XE_L6xBLm7N"
      },
      "execution_count": null,
      "outputs": []
    },
    {
      "cell_type": "code",
      "source": [
        "discordMessage = \"I want ice cream\""
      ],
      "metadata": {
        "id": "bIFxnLtbRZz2"
      },
      "execution_count": null,
      "outputs": []
    },
    {
      "cell_type": "code",
      "source": [
        "result = pipe(discordMessage)[0]\n",
        "resultAlt = pipe2(discordMessage)[0]"
      ],
      "metadata": {
        "id": "iiyUpNVELQ1m"
      },
      "execution_count": null,
      "outputs": []
    },
    {
      "cell_type": "code",
      "source": [
        "print(f\"{round(result['score'], 4)}\")\n",
        "print(f\"{round(resultAlt['score'], 4)}\")\n",
        "Average = (round(resultAlt['score'], 4) + round(result['score'], 4) )/2\n",
        "print(Average)"
      ],
      "metadata": {
        "colab": {
          "base_uri": "https://localhost:8080/"
        },
        "id": "dkb1LwIQLUqt",
        "outputId": "2e2241bd-63de-47f1-a1fc-19dfd791093e"
      },
      "execution_count": null,
      "outputs": [
        {
          "output_type": "stream",
          "name": "stdout",
          "text": [
            "0.98\n",
            "0.6631\n",
            "0.82155\n"
          ]
        }
      ]
    },
    {
      "cell_type": "code",
      "source": [
        ""
      ],
      "metadata": {
        "id": "eQfPwf_lSbMh"
      },
      "execution_count": null,
      "outputs": []
    }
  ]
}